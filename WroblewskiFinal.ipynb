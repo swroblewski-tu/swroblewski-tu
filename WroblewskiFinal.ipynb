{
 "cells": [
  {
   "cell_type": "markdown",
   "id": "8d156cd3-b89f-4949-855d-ef2348a8cecf",
   "metadata": {},
   "source": [
    "### Scrape and tidy the 2019 quality of life data \n",
    "#### Source: https://www.numbeo.com/quality-of-life/rankings_by_country.jsp?title=2019"
   ]
  },
  {
   "cell_type": "code",
   "execution_count": 10,
   "id": "c46e92ee-0d68-4e18-88c4-eca7a47df6c9",
   "metadata": {},
   "outputs": [
    {
     "name": "stdout",
     "output_type": "stream",
     "text": [
      "       Country  Quality of Life Index  Cost of Living Index  \\\n",
      "0      Denmark                  198.6                 114.4   \n",
      "1  Switzerland                  195.9                 129.7   \n",
      "2      Finland                  194.0                 112.3   \n",
      "3    Australia                  191.1                 122.9   \n",
      "4      Austria                  191.1                  96.7   \n",
      "\n",
      "   Property Price to Income Ratio  Traffic Commute Time Index  \n",
      "0                            75.8                        79.4  \n",
      "1                            78.5                        72.7  \n",
      "2                            77.2                        73.5  \n",
      "3                            57.2                        76.4  \n",
      "4                            78.6                        79.2  \n"
     ]
    }
   ],
   "source": [
    "import requests\n",
    "from bs4 import BeautifulSoup\n",
    "import pandas as pd\n",
    "\n",
    "# fetch the url \n",
    "url = \"https://www.numbeo.com/quality-of-life/rankings_by_country.jsp?title=2019\"\n",
    "response = requests.get(url)\n",
    "\n",
    "# locate the table\n",
    "table = soup.find('table', {'id': 't2'})\n",
    "\n",
    "# extract the data from the table as needed\n",
    "data = []\n",
    "if table:\n",
    "    for row in table.find_all('tr')[1:]:  # Skip the header row\n",
    "        cols = row.find_all('td')\n",
    "        country = cols[1].text.strip()\n",
    "        quality_of_life_index = cols[2].text.strip()\n",
    "        cost_of_living_index = cols[3].text.strip()\n",
    "        property_price_to_income_ratio = cols[4].text.strip()\n",
    "        traffic_commute_time_index = cols[5].text.strip()\n",
    "\n",
    "        data.append([country, quality_of_life_index, cost_of_living_index,\n",
    "                     property_price_to_income_ratio, traffic_commute_time_index])\n",
    "\n",
    "    # create dataframe and tidy the data\n",
    "    df = pd.DataFrame(data, columns=['Country', 'Quality of Life Index', 'Cost of Living Index',\n",
    "                                     'Property Price to Income Ratio', 'Traffic Commute Time Index'])\n",
    "\n",
    "    # convert to appropriate data types\n",
    "    df['Quality of Life Index'] = df['Quality of Life Index'].astype(float)\n",
    "    df['Cost of Living Index'] = df['Cost of Living Index'].astype(float)\n",
    "    df['Property Price to Income Ratio'] = df['Property Price to Income Ratio'].astype(float)\n",
    "    df['Traffic Commute Time Index'] = df['Traffic Commute Time Index'].astype(float)\n",
    "\n",
    "print(df.head())\n"
   ]
  },
  {
   "cell_type": "code",
   "execution_count": null,
   "id": "f22900db-a1b8-433a-b0af-c966b6755c31",
   "metadata": {},
   "outputs": [],
   "source": []
  }
 ],
 "metadata": {
  "kernelspec": {
   "display_name": "Python 3 (ipykernel)",
   "language": "python",
   "name": "python3"
  },
  "language_info": {
   "codemirror_mode": {
    "name": "ipython",
    "version": 3
   },
   "file_extension": ".py",
   "mimetype": "text/x-python",
   "name": "python",
   "nbconvert_exporter": "python",
   "pygments_lexer": "ipython3",
   "version": "3.11.4"
  }
 },
 "nbformat": 4,
 "nbformat_minor": 5
}
